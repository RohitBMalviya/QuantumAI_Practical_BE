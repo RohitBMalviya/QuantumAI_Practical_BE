{
 "cells": [
  {
   "cell_type": "code",
   "execution_count": 1,
   "id": "1ac8cef9-0f3d-4fb8-9d6f-b501c2a6bbd2",
   "metadata": {},
   "outputs": [],
   "source": [
    "from qiskit import QuantumRegister, ClassicalRegister \n",
    "from qiskit import QuantumCircuit, execute,IBMQ, execute \n",
    "from qiskit.tools.monitor import job_monitor \n",
    "from qiskit import Aer \n",
    "from qiskit.tools.jupyter.library import _generate_circuit_library_visualization \n",
    "from qiskit.circuit.library import QFT \n",
    "import numpy as np "
   ]
  },
  {
   "cell_type": "code",
   "execution_count": 1,
   "id": "f44994e0-251b-419c-9465-cdc0acfac09e",
   "metadata": {},
   "outputs": [],
   "source": [
    "pi = np.pi \n",
    "backend = Aer.get_backend('statevector_simulator') \n",
    "q = QuantumRegister(5,'q') \n",
    "c = ClassicalRegister(5,'c') \n",
    "circuit = QuantumCircuit(q,c) "
   ]
  },
  {
   "cell_type": "code",
   "execution_count": null,
   "id": "b7b88ec0-43a6-4545-81ca-d14f057b4c24",
   "metadata": {},
   "outputs": [],
   "source": [
    "circuit.x(q[4]) \n",
    "circuit.x(q[2])\n",
    "circuit.x(q[0])"
   ]
  },
  {
   "cell_type": "code",
   "execution_count": null,
   "id": "852a0892-12ea-46c1-b14f-48e68db02c22",
   "metadata": {},
   "outputs": [],
   "source": [
    "qft_circuit = QFT(num_qubits=5, approximation_degree=0, do_swaps=True,inverse=False,insert_barriers=False,name='qft')"
   ]
  },
  {
   "cell_type": "code",
   "execution_count": null,
   "id": "9fe62bc3-58e6-41f1-a6aa-27fcddc0b7c0",
   "metadata": {},
   "outputs": [],
   "source": [
    "circuit = circuit.compose(qft_circuit) \n",
    "circuit.measure(q,c) \n",
    "circuit.draw(output=\"mpl\", filename=\"qft1.png\").show() "
   ]
  },
  {
   "cell_type": "code",
   "execution_count": null,
   "id": "a29aafbd-2d6c-46e3-ac44-68e275e4a8e6",
   "metadata": {},
   "outputs": [],
   "source": [
    "print(circuit) "
   ]
  },
  {
   "cell_type": "code",
   "execution_count": null,
   "id": "6810afa8-121c-41ec-8c2c-f6a0488a2d30",
   "metadata": {},
   "outputs": [],
   "source": [
    "job = execute(circuit, backend, shots=1000) \n",
    "job_monitor(job) \n",
    "counts = job.result().get_counts() \n",
    "print(\"\\n QFT Output\") \n",
    "print(\"-------------\") \n",
    "print(counts) "
   ]
  }
 ],
 "metadata": {
  "kernelspec": {
   "display_name": "Python 3 (ipykernel)",
   "language": "python",
   "name": "python3"
  },
  "language_info": {
   "codemirror_mode": {
    "name": "ipython",
    "version": 3
   },
   "file_extension": ".py",
   "mimetype": "text/x-python",
   "name": "python",
   "nbconvert_exporter": "python",
   "pygments_lexer": "ipython3",
   "version": "3.12.0"
  },
  "widgets": {
   "application/vnd.jupyter.widget-state+json": {
    "state": {},
    "version_major": 2,
    "version_minor": 0
   }
  }
 },
 "nbformat": 4,
 "nbformat_minor": 5
}

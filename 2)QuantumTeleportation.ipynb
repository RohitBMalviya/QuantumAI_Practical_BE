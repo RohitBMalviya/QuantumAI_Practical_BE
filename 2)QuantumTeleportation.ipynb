{
 "cells": [
  {
   "cell_type": "code",
   "execution_count": 1,
   "id": "3b8db478-826e-41cd-a053-2524db525eed",
   "metadata": {},
   "outputs": [],
   "source": [
    "from qiskit.circuit import QuantumCircuit \n",
    "from qiskit.visualization import plot_histogram   "
   ]
  },
  {
   "cell_type": "code",
   "execution_count": 2,
   "id": "9cbd3342-b4e6-4d50-a0ec-6f39c1bc2944",
   "metadata": {},
   "outputs": [],
   "source": [
    "circuit = QuantumCircuit(3, 3) "
   ]
  },
  {
   "cell_type": "code",
   "execution_count": 3,
   "id": "f76ccbc9-d826-4c8a-b440-5302bf64e9ab",
   "metadata": {},
   "outputs": [
    {
     "data": {
      "text/html": [
       "<pre style=\"word-wrap: normal;white-space: pre;background: #fff0;line-height: 1.1;font-family: &quot;Courier New&quot;,Courier,monospace\">     ┌───┐ ░                ┌───┐ ░ ┌─┐    ░         \n",
       "q_0: ┤ X ├─░─────────────■──┤ H ├─░─┤M├────░───────■─\n",
       "     └───┘ ░ ┌───┐     ┌─┴─┐└───┘ ░ └╥┘┌─┐ ░       │ \n",
       "q_1: ──────░─┤ H ├──■──┤ X ├──────░──╫─┤M├─░───■───┼─\n",
       "           ░ └───┘┌─┴─┐└───┘      ░  ║ └╥┘ ░ ┌─┴─┐ │ \n",
       "q_2: ──────░──────┤ X ├───────────░──╫──╫──░─┤ X ├─■─\n",
       "           ░      └───┘           ░  ║  ║  ░ └───┘   \n",
       "c: 3/════════════════════════════════╩══╩════════════\n",
       "                                     0  1            </pre>"
      ],
      "text/plain": [
       "     ┌───┐ ░                ┌───┐ ░ ┌─┐    ░         \n",
       "q_0: ┤ X ├─░─────────────■──┤ H ├─░─┤M├────░───────■─\n",
       "     └───┘ ░ ┌───┐     ┌─┴─┐└───┘ ░ └╥┘┌─┐ ░       │ \n",
       "q_1: ──────░─┤ H ├──■──┤ X ├──────░──╫─┤M├─░───■───┼─\n",
       "           ░ └───┘┌─┴─┐└───┘      ░  ║ └╥┘ ░ ┌─┴─┐ │ \n",
       "q_2: ──────░──────┤ X ├───────────░──╫──╫──░─┤ X ├─■─\n",
       "           ░      └───┘           ░  ║  ║  ░ └───┘   \n",
       "c: 3/════════════════════════════════╩══╩════════════\n",
       "                                     0  1            "
      ]
     },
     "execution_count": 3,
     "metadata": {},
     "output_type": "execute_result"
    }
   ],
   "source": [
    "circuit.x(0) \n",
    "circuit.barrier(range(3)) \n",
    "circuit.h(1) \n",
    "circuit.cx(1, 2) \n",
    "circuit.cx(0, 1) \n",
    "circuit.h(0) \n",
    "circuit.barrier(range(3)) \n",
    "circuit.measure(range(2), range(2)) \n",
    "circuit.barrier(range(3)) \n",
    "circuit.cx(1, 2) \n",
    "circuit.cz(0, 2) \n",
    "circuit.draw()"
   ]
  },
  {
   "cell_type": "code",
   "execution_count": 1,
   "id": "cb18848e-ac93-4803-839f-4f351275227e",
   "metadata": {},
   "outputs": [],
   "source": [
    "# from qiskit_aer import AerSimulator \n",
    "# from qiskit import transpile"
   ]
  },
  {
   "cell_type": "code",
   "execution_count": 12,
   "id": "f73d508f-31bc-4085-b737-b363adca336c",
   "metadata": {},
   "outputs": [],
   "source": [
    "backend = AerSimulator()"
   ]
  },
  {
   "cell_type": "code",
   "execution_count": 13,
   "id": "bad19e74-8fad-4010-8cac-e808f7c34ae6",
   "metadata": {},
   "outputs": [],
   "source": [
    "qc_compiled = transpile(circuit, backend)"
   ]
  },
  {
   "cell_type": "code",
   "execution_count": 14,
   "id": "8524f351-c0aa-4865-93bb-c4bb35310293",
   "metadata": {},
   "outputs": [],
   "source": [
    "job_sim = backend.run(qc_compiled, shots=1024)\n",
    "result_sim = job_sim.result()"
   ]
  },
  {
   "cell_type": "code",
   "execution_count": 17,
   "id": "7fd9930a-c9dc-44a4-9603-fa0c49cd6a2e",
   "metadata": {},
   "outputs": [],
   "source": [
    "counts = result_sim.get_counts(qc_compiled)\n",
    "print(counts)"
   ]
  },
  {
   "cell_type": "code",
   "execution_count": 18,
   "id": "d4eb7c36-fa22-4efb-95a1-f125b350d59f",
   "metadata": {},
   "outputs": [],
   "source": [
    "plot_histogram(counts)"
   ]
  },
  {
   "cell_type": "code",
   "execution_count": null,
   "id": "8447bf7f-0d8c-4ae7-a73a-3454aa38edb7",
   "metadata": {},
   "outputs": [],
   "source": []
  }
 ],
 "metadata": {
  "kernelspec": {
   "display_name": "Python 3 (ipykernel)",
   "language": "python",
   "name": "python3"
  },
  "language_info": {
   "codemirror_mode": {
    "name": "ipython",
    "version": 3
   },
   "file_extension": ".py",
   "mimetype": "text/x-python",
   "name": "python",
   "nbconvert_exporter": "python",
   "pygments_lexer": "ipython3",
   "version": "3.12.0"
  },
  "widgets": {
   "application/vnd.jupyter.widget-state+json": {
    "state": {},
    "version_major": 2,
    "version_minor": 0
   }
  }
 },
 "nbformat": 4,
 "nbformat_minor": 5
}

{
 "cells": [
  {
   "cell_type": "code",
   "execution_count": 1,
   "id": "84478a38-e7f5-4e8f-ab17-314e94b0ae04",
   "metadata": {},
   "outputs": [
    {
     "name": "stderr",
     "output_type": "stream",
     "text": [
      "C:\\Users\\ROHIT MALVIYA\\AppData\\Local\\Temp\\ipykernel_9156\\2135378452.py:3: DeprecationWarning: The qiskit.ignis package is deprecated and has been supersceded by the qiskit-experiments project. Refer to the migration guide: https://github.com/Qiskit/qiskit-ignis#migration-guide on how to migrate to the new project.\n",
      "  from qiskit.ignis.mitigation import CompleteMeasFitter, complete_meas_cal, tensored_meas_cal\n"
     ]
    }
   ],
   "source": [
    "from qiskit import QuantumCircuit, Aer, transpile,assemble \n",
    "from qiskit.visualization import plot_histogram \n",
    "from qiskit.ignis.mitigation import CompleteMeasFitter, complete_meas_cal, tensored_meas_cal"
   ]
  },
  {
   "cell_type": "code",
   "execution_count": 2,
   "id": "ab068724-e8d6-400d-b0f3-1c26ff69faa6",
   "metadata": {},
   "outputs": [],
   "source": [
    "qc=QuantumCircuit(3,3)"
   ]
  },
  {
   "cell_type": "code",
   "execution_count": 3,
   "id": "80029142-5dec-49ed-b230-5abcc881782e",
   "metadata": {},
   "outputs": [
    {
     "data": {
      "text/plain": [
       "<qiskit.circuit.instructionset.InstructionSet at 0x2196e39f4f0>"
      ]
     },
     "execution_count": 3,
     "metadata": {},
     "output_type": "execute_result"
    }
   ],
   "source": [
    "qc.h(0) \n",
    "qc.cx(0,1) \n",
    "qc.cx(0,2) \n",
    "qc.measure([0,1,2],[0,1,2]) "
   ]
  },
  {
   "cell_type": "code",
   "execution_count": 6,
   "id": "5e817b62-7010-4e18-8309-f350470564d0",
   "metadata": {},
   "outputs": [],
   "source": [
    "# backend=Aer.get_backend('qasm_simulator') \n",
    "# transpiled_qc=transpile(qc,backend)"
   ]
  },
  {
   "cell_type": "code",
   "execution_count": 7,
   "id": "96fb3b90-d733-4f95-a34e-81ec0bae7af1",
   "metadata": {},
   "outputs": [],
   "source": [
    "# qobj=assemble(transpiled_qc,shots=1000)\n",
    "# job=backend.run(qc) \n",
    "# result=job.result() \n",
    "# counts=result.get_counts() \n",
    "# raw_counts=job.result().get_counts() "
   ]
  },
  {
   "cell_type": "code",
   "execution_count": 15,
   "id": "0ed71f0a-904c-4ebd-b6b3-4473623fd5d0",
   "metadata": {},
   "outputs": [],
   "source": [
    "# cal_circuits,state_labels=complete_meas_cal(qubit_list=list[0,1,2]) \n",
    "# cal_job=backend.run(qc) \n",
    "# cal_results=cal_job.result() \n",
    "# meas_fitter=CompleteMeasFitter(cal_results,state_labels) \n",
    "# mitigated_counts=meas_fitter.filter.apply(raw_counts)"
   ]
  },
  {
   "cell_type": "code",
   "execution_count": null,
   "id": "4a746be1-1ad5-4ae9-b673-6c6270ef11b3",
   "metadata": {},
   "outputs": [],
   "source": [
    "print(\"Original counts:\") \n",
    "print(counts) "
   ]
  },
  {
   "cell_type": "code",
   "execution_count": null,
   "id": "32ad0514-548e-4b45-b666-c7bd6a1aa638",
   "metadata": {},
   "outputs": [],
   "source": [
    "print(\"Mitigated counts:\") \n",
    "print(mitigated_counts)"
   ]
  },
  {
   "cell_type": "code",
   "execution_count": null,
   "id": "98fa0048-91d3-4f0b-bb66-a13b9a3352fc",
   "metadata": {},
   "outputs": [],
   "source": [
    "plot_histogram([counts, mitigated_counts], legend=['Original', 'Mitigated']) "
   ]
  }
 ],
 "metadata": {
  "kernelspec": {
   "display_name": "Python 3 (ipykernel)",
   "language": "python",
   "name": "python3"
  },
  "language_info": {
   "codemirror_mode": {
    "name": "ipython",
    "version": 3
   },
   "file_extension": ".py",
   "mimetype": "text/x-python",
   "name": "python",
   "nbconvert_exporter": "python",
   "pygments_lexer": "ipython3",
   "version": "3.12.0"
  },
  "widgets": {
   "application/vnd.jupyter.widget-state+json": {
    "state": {},
    "version_major": 2,
    "version_minor": 0
   }
  }
 },
 "nbformat": 4,
 "nbformat_minor": 5
}
